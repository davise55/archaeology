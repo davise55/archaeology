{
 "cells": [
  {
   "cell_type": "markdown",
   "metadata": {},
   "source": [
    "# Aphrodisias analysis notebook\n"
   ]
  },
  {
   "cell_type": "code",
   "execution_count": null,
   "metadata": {},
   "outputs": [],
   "source": [
    "from pathlib import Path\n",
    "\n",
    "import pygeoprocessing\n",
    "from osgeo import gdal\n",
    "import statistics\n",
    "import math\n",
    "import numpy as np\n",
    "import pandas as pd\n",
    "import rasterio as rio\n",
    "from rasterio.windows import from_bounds\n",
    "from shapely.geometry import Polygon \n",
    "import rasterio\n",
    "import itertools\n",
    "import os\n",
    "import configparser"
   ]
  },
  {
   "cell_type": "markdown",
   "metadata": {},
   "source": [
    "### Defining input datasets"
   ]
  },
  {
   "cell_type": "code",
   "execution_count": 12,
   "metadata": {},
   "outputs": [],
   "source": [
    "gis_folder = Path(r\"/Users/cnootenboom/Documents/Projects/Circuitscape\")\n",
    "\n",
    "target_nodata = -9999.0\n",
    "\n",
    "dem_raster_path = gis_folder / \"DEM_UTM_35N.tif\"\n",
    "dem_raster_info = pygeoprocessing.get_raster_info(str(dem_raster_path))\n",
    "\n",
    "slope_raster_path = gis_folder / \"slope_35N.tif\"\n",
    "tri_raster_path = gis_folder / \"tri_35N.tif\"\n",
    "landcover_raster_path = gis_folder / \"landcover_35N.tif\"\n",
    "\n",
    "church_vector_path = gis_folder / \"churches_35N.gpkg\"\n",
    "city_center_vector_path = gis_folder / \"center_35N.gpkg\"\n",
    "\n",
    "church_raster_path = gis_folder / \"churches_35N.tif\"\n",
    "city_center_raster_path = gis_folder / \"center_35N.tif\""
   ]
  },
  {
   "cell_type": "markdown",
   "metadata": {},
   "source": [
    "### Rasterizing Churches to match the DEM"
   ]
  },
  {
   "cell_type": "code",
   "execution_count": 3,
   "metadata": {},
   "outputs": [],
   "source": [
    "# Create and burn church locations\n",
    "if not church_raster_path.exists:\n",
    "    pygeoprocessing.new_raster_from_base(\n",
    "        str(dem_raster_path),\n",
    "        str(church_raster_path),\n",
    "        gdal.GDT_Byte,\n",
    "        [0],\n",
    "    )\n",
    "    pygeoprocessing.rasterize(\n",
    "    str(church_vector_path),\n",
    "    str(church_raster_path),\n",
    "    [1],\n",
    "    )"
   ]
  },
  {
   "cell_type": "markdown",
   "metadata": {},
   "source": [
    "### Rasterizing city center to match the DEM"
   ]
  },
  {
   "cell_type": "code",
   "execution_count": null,
   "metadata": {},
   "outputs": [],
   "source": [
    "# Create and burn city center\n",
    "if not city_center_raster_path.exists:\n",
    "    pygeoprocessing.new_raster_from_base(\n",
    "        str(dem_raster_path),\n",
    "        str(city_center_raster_path),\n",
    "        gdal.GDT_Byte,\n",
    "        [0],\n",
    "    )\n",
    "    pygeoprocessing.rasterize(\n",
    "    str(city_center_vector_path),\n",
    "    str(city_center_raster_path),\n",
    "        [1],\n",
    "    )"
   ]
  },
  {
   "cell_type": "markdown",
   "metadata": {},
   "source": [
    "### Calculate slope and Terrain Ruggedness Index from DEM"
   ]
  },
  {
   "cell_type": "code",
   "execution_count": null,
   "metadata": {},
   "outputs": [],
   "source": [
    "slope_gdal_ds = gdal.DEMProcessing(str(slope_raster_path), str(dem_raster_path), \"slope\")\n",
    "del slope_gdal_ds\n",
    "\n",
    "# pygeoprocessing.calculate_slope((str(dem_raster_path), 1), str(slope_raster_path))\n",
    "\n",
    "tri_gdal_ds = gdal.DEMProcessing(str(tri_raster_path), str(dem_raster_path), \"tri\")\n",
    "del tri_gdal_ds"
   ]
  },
  {
   "cell_type": "markdown",
   "metadata": {},
   "source": [
    "### Normalize input datasets"
   ]
  },
  {
   "cell_type": "code",
   "execution_count": null,
   "metadata": {},
   "outputs": [],
   "source": [
    "#Align and clip landscape data to DEM extent\n",
    "dem_raster_info = pygeoprocessing.get_raster_info(str(dem_raster_path))\n",
    "dem_raster_clip = gis_folder / \"DEM_UTM_35N_clip.tif\"\n",
    "landcover_raster_clip = gis_folder / \"landcover_35N_clip.tif\"\n",
    "slope_raster_clip = gis_folder / \"slope_35N_clip.tif\"\n",
    "tri_raster_clip = gis_folder / \"tri_35N_clip.tif\"\n",
    "\n",
    "pygeoprocessing.align_and_resize_raster_stack(\n",
    "    [str(dem_raster_path), str(landcover_raster_path), str(slope_raster_path), str(tri_raster_path)],\n",
    "    [str(dem_raster_clip), str(landcover_raster_clip), str(slope_raster_clip), str(tri_raster_clip)],\n",
    "    [\"near\", \"near\", \"near\", \"near\"],\n",
    "    dem_raster_info[\"pixel_size\"],\n",
    "    dem_raster_info[\"bounding_box\"],\n",
    "    raster_align_index=0,\n",
    ")"
   ]
  },
  {
   "cell_type": "markdown",
   "metadata": {},
   "source": [
    "### Reclassify landcover into cost surface"
   ]
  },
  {
   "cell_type": "code",
   "execution_count": null,
   "metadata": {},
   "outputs": [],
   "source": [
    "reclass_df = pd.read_csv(\"./data/esa_worldcover_classification.csv\")\n",
    "cost_value = \"cost_value\"\n",
    "landcover_reclass = gis_folder / \"landcover_reclass.tif\"\n",
    "\n",
    "reclass_dict = reclass_df.set_index(\"lucode\").to_dict()[cost_value]\n",
    "\n",
    "pygeoprocessing.reclassify_raster(\n",
    "    (str(landcover_raster_clip),1),\n",
    "    reclass_dict,\n",
    "    str(landcover_reclass),\n",
    "    gdal.GDT_Float32,\n",
    "    target_nodata,\n",
    ")"
   ]
  },
  {
   "cell_type": "markdown",
   "metadata": {},
   "source": [
    "### Calculate Tobler's hiking function"
   ]
  },
  {
   "cell_type": "code",
   "execution_count": 19,
   "metadata": {},
   "outputs": [],
   "source": [
    "tobler_surface_raster = gis_folder / \"tobler_surface.tif\"\n",
    "\n",
    "slope_raster_info = pygeoprocessing.get_raster_info(str(slope_raster_clip))\n",
    "slope_cell_resolution = statistics.mean([abs(x) for x in slope_raster_info[\"pixel_size\"]])\n",
    "slope_nodata = slope_raster_info[\"nodata\"][0]\n",
    "\n",
    "# def tobler_op(slope_array):\n",
    "#     result = (slope_cell_resolution/1000)/(6*np.exp(-3.5*np.abs(np.tan(slope_array*math.pi/180)+0.05)))\n",
    "#     return result\n",
    "# def tobler_op(slope):\n",
    "#     result = (slope_cell_resolution/1000)/(6*np.exp(-3.5*np.abs(slope+0.05)))\n",
    "#     return result\n",
    "\n",
    "def tobler_op(slope_array):\n",
    "    # Make an array of the same shape full of nodata\n",
    "    output = np.full(slope_array.shape, slope_nodata)\n",
    "\n",
    "    # Make a masking array to ignore all nodata areas in the original data\n",
    "    valid_mask = np.full(slope_array.shape, True)\n",
    "    valid_mask &= ~pygeoprocessing.array_equals_nodata(slope_array, slope_nodata)\n",
    "\n",
    "    output[valid_mask] = (slope_cell_resolution/1000)/(6*np.exp(-3.5*np.abs(np.tan(slope_array[valid_mask]*math.pi/180)+0.05)))\n",
    "\n",
    "    return output\n",
    "\n",
    "if not tobler_surface_raster.exists():\n",
    "    pygeoprocessing.raster_calculator(\n",
    "        [(str(slope_raster_clip),1)], \n",
    "        tobler_op,\n",
    "        str(tobler_surface_raster),\n",
    "        gdal.GDT_Float32,\n",
    "        target_nodata,\n",
    "        calc_raster_stats=True\n",
    "    )\n",
    "\n",
    "\n",
    "# Define Tobler rescaling function\n",
    "def tobler_rescale_op(tobler_surface_array, upper_limit=0.1666667, lower_limit=0.0):\n",
    "    # Make an array of the same shape full of nodata\n",
    "    output = np.full(tobler_surface_array.shape, target_nodata)\n",
    "\n",
    "    # Make a masking array to ignore all nodata areas in the original data\n",
    "    valid_mask = np.full(tobler_surface_array.shape, True)\n",
    "    valid_mask &= ~pygeoprocessing.array_equals_nodata(tobler_surface_array, target_nodata)\n",
    "\n",
    "    # Calculate initial rescaling\n",
    "    output[valid_mask] = (tobler_surface_array[valid_mask] - lower_limit)/(upper_limit - lower_limit)\n",
    "\n",
    "    # Force values larger than the upper_limit to equal one\n",
    "    upper_limit_mask = (tobler_surface_array >= upper_limit) & valid_mask\n",
    "    output[upper_limit_mask] = 1\n",
    "\n",
    "    # Force values smaller than the lower_limit to equal zero\n",
    "    lower_limit_mask = (tobler_surface_array <= lower_limit) & valid_mask\n",
    "    output[lower_limit_mask] = 0\n",
    "\n",
    "    return output\n",
    "\n",
    "tobler_rescale_raster = gis_folder / \"tobler_rescale.tif\"\n",
    "\n",
    "# Rescaling Tobler's original function\n",
    "if tobler_rescale_raster.exists():\n",
    "    tobler_rescale_raster.unlink()\n",
    "pygeoprocessing.raster_calculator(\n",
    "    [(str(tobler_surface_raster),1)], \n",
    "    tobler_rescale_op,\n",
    "    str(tobler_rescale_raster),\n",
    "    gdal.GDT_Float32,\n",
    "    target_nodata,\n",
    ")"
   ]
  },
  {
   "cell_type": "markdown",
   "metadata": {},
   "source": [
    "### Create multicriteria cost surface"
   ]
  },
  {
   "cell_type": "code",
   "execution_count": 20,
   "metadata": {},
   "outputs": [],
   "source": [
    "cost_surface = gis_folder / \"cost_surface.tif\"\n",
    "\n",
    "# Get nodata values for toblers and lulc\n",
    "landcover_raster_nodata = pygeoprocessing.get_raster_info(str(landcover_reclass))[\"nodata\"][0]\n",
    "tobler_raster_nodata = pygeoprocessing.get_raster_info(str(tobler_rescale_raster))[\"nodata\"][0]\n",
    "\n",
    "\n",
    "def weighted_average_op(tobler_array, lulc_cost_array, tobler_weight=0.8, lulc_cost_weight=0.2):\n",
    "    # Make an array of the same shape full of nodata\n",
    "    output = np.full(tobler_array.shape, target_nodata)\n",
    "\n",
    "    # Make a masking array to ignore all nodata areas in the original data\n",
    "    valid_mask = np.full(tobler_array.shape, True)\n",
    "    valid_mask &= ~pygeoprocessing.array_equals_nodata(tobler_array, target_nodata)\n",
    "    valid_mask &= ~pygeoprocessing.array_equals_nodata(lulc_cost_array, target_nodata)\n",
    "\n",
    "    # Calculate weighted average\n",
    "    output[valid_mask] = ((tobler_array[valid_mask]*tobler_weight) + (lulc_cost_array[valid_mask]*lulc_cost_weight)) / (tobler_weight+lulc_cost_weight)\n",
    "\n",
    "    return output \n",
    "\n",
    "if cost_surface.exists():\n",
    "    cost_surface.unlink()\n",
    "pygeoprocessing.raster_calculator(\n",
    "    [(str(tobler_rescale_raster),1),(str(landcover_reclass),1)],\n",
    "    weighted_average_op,\n",
    "    str(cost_surface),\n",
    "    gdal.GDT_Float32,\n",
    "    target_nodata,\n",
    ")"
   ]
  },
  {
   "cell_type": "markdown",
   "metadata": {},
   "source": [
    "### Calculate combined friction surface using raster calculator"
   ]
  },
  {
   "cell_type": "code",
   "execution_count": null,
   "metadata": {},
   "outputs": [],
   "source": [
    "friction_surface = gis_folder / \"friction_surface.tif\"\n",
    "\n",
    "file_list = [\n",
    "    str(friction_surface),\n",
    "    str(friction_surface_1),\n",
    "    str(friction_surface_2)\n",
    "]\n",
    "\n",
    "def friction_op(slope, vegetation):\n",
    "    result = slope*0.8 + vegetation*2\n",
    "    return result\n",
    "\n",
    "if not friction_surface.exists():\n",
    "    pygeoprocessing.raster_calculator(\n",
    "        file_list,\n",
    "        friction_op,\n",
    "        str(friction_surface),\n",
    "        gdal.GDT_Float32,\n",
    "        -1,\n",
    "    )"
   ]
  },
  {
   "cell_type": "markdown",
   "metadata": {},
   "source": [
    "### Run tiled Circuitscape method"
   ]
  },
  {
   "cell_type": "code",
   "execution_count": null,
   "metadata": {},
   "outputs": [],
   "source": [
    "from .circuitscape import circuitscape\n",
    "\n",
    "\n",
    "cost_surface_raster = gis_folder / \"cost_surface.tif\"\n",
    "workspace_path = gis_folder/ \"circuitscape\"\n",
    "seed_ini = gis_folder / \"circuitscape/blank_circuitscape_ini.ini\"\n",
    "# seed_ini = gis_folder / \"circuitscape/blank_circuitscape_manual.ini\"\n",
    "\n",
    "circuitscape(cost_surface_raster, seed_ini, workspace_path, keep_intermediates=True)\n"
   ]
  }
 ],
 "metadata": {
  "kernelspec": {
   "display_name": "nci-dev",
   "language": "python",
   "name": "python3"
  },
  "language_info": {
   "codemirror_mode": {
    "name": "ipython",
    "version": 3
   },
   "file_extension": ".py",
   "mimetype": "text/x-python",
   "name": "python",
   "nbconvert_exporter": "python",
   "pygments_lexer": "ipython3",
   "version": "3.11.11"
  }
 },
 "nbformat": 4,
 "nbformat_minor": 2
}
